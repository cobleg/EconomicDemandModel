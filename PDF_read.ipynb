{
  "cells": [
    {
      "metadata": {
        "trusted": true
      },
      "cell_type": "code",
      "source": "!pip install tabula-py",
      "execution_count": 2,
      "outputs": [
        {
          "output_type": "stream",
          "text": "Collecting tabula-py\n\u001b[?25l  Downloading https://files.pythonhosted.org/packages/53/a4/66add528eca00398af98f181772006750019eb9f2d68c7c6fdd53ba661c5/tabula_py-2.1.0-py3-none-any.whl (10.4MB)\n\u001b[K     |████████████████████████████████| 10.4MB 20kB/s  eta 0:00:01    |▉                               | 276kB 1.6MB/s eta 0:00:07     |███                             | 993kB 1.6MB/s eta 0:00:06     |█████▎                          | 1.7MB 1.6MB/s eta 0:00:06     |███████                         | 2.2MB 1.6MB/s eta 0:00:06     |████████▋                       | 2.8MB 1.6MB/s eta 0:00:05     |██████████▋                     | 3.4MB 5.2MB/s eta 0:00:02\n\u001b[?25hRequirement already satisfied: numpy in /home/nbuser/anaconda3_501/lib/python3.6/site-packages (from tabula-py) (1.16.2)\nRequirement already satisfied: distro in /home/nbuser/anaconda3_501/lib/python3.6/site-packages (from tabula-py) (1.4.0)\nCollecting pandas>=0.25.3\n\u001b[?25l  Downloading https://files.pythonhosted.org/packages/bb/71/8f53bdbcbc67c912b888b40def255767e475402e9df64050019149b1a943/pandas-1.0.3-cp36-cp36m-manylinux1_x86_64.whl (10.0MB)\n\u001b[K     |████████████████████████████████| 10.0MB 22kB/s  eta 0:00:01    |████                            | 1.2MB 3.9MB/s eta 0:00:03     |████████████▉                   | 4.0MB 130kB/s eta 0:00:47     |█████████████▊                  | 4.3MB 130kB/s eta 0:00:44     |██████████████▌                 | 4.5MB 130kB/s eta 0:00:43         | 5.2MB 130kB/s eta 0:00:38\n\u001b[?25hRequirement already satisfied: pytz>=2017.2 in /home/nbuser/anaconda3_501/lib/python3.6/site-packages (from pandas>=0.25.3->tabula-py) (2019.3)\nRequirement already satisfied: python-dateutil>=2.6.1 in /home/nbuser/anaconda3_501/lib/python3.6/site-packages (from pandas>=0.25.3->tabula-py) (2.8.1)\nRequirement already satisfied: six>=1.5 in /home/nbuser/anaconda3_501/lib/python3.6/site-packages (from python-dateutil>=2.6.1->pandas>=0.25.3->tabula-py) (1.11.0)\n\u001b[31mERROR: azureml-train-automl 1.0.72 has requirement onnxmltools==1.4.1, but you'll have onnxmltools 1.6.0 which is incompatible.\u001b[0m\n\u001b[31mERROR: azureml-train-automl 1.0.72 has requirement pandas<=0.23.4,>=0.21.0, but you'll have pandas 1.0.3 which is incompatible.\u001b[0m\n\u001b[31mERROR: azureml-opendatasets 1.0.72.1 has requirement pandas<=0.23.4,>=0.21.0, but you'll have pandas 1.0.3 which is incompatible.\u001b[0m\n\u001b[31mERROR: azureml-automl-core 1.0.72.1 has requirement onnxmltools==1.4.1, but you'll have onnxmltools 1.6.0 which is incompatible.\u001b[0m\n\u001b[31mERROR: azureml-automl-core 1.0.72.1 has requirement pandas<=0.23.4,>=0.21.0, but you'll have pandas 1.0.3 which is incompatible.\u001b[0m\nInstalling collected packages: pandas, tabula-py\n  Found existing installation: pandas 0.23.4\n    Uninstalling pandas-0.23.4:\n      Successfully uninstalled pandas-0.23.4\nSuccessfully installed pandas-1.0.3 tabula-py-2.1.0\n\u001b[33mWARNING: You are using pip version 19.3.1; however, version 20.0.2 is available.\nYou should consider upgrading via the 'pip install --upgrade pip' command.\u001b[0m\n",
          "name": "stdout"
        }
      ]
    },
    {
      "metadata": {
        "trusted": true
      },
      "cell_type": "code",
      "source": "import tabula\nimport pandas as pd\n\n# Read remote pdf into list of DataFrame\ndf2 = tabula.read_pdf(\"https://www.pilbaraports.com.au/PilbaraPortsAuthority/files/0a/0a418d58-74bd-4b8f-8ba5-9ddf021c3744.pdf\")\n",
      "execution_count": 13,
      "outputs": [
        {
          "output_type": "stream",
          "text": "'pages' argument isn't specified.Will extract only from page 1 by default.\nGot stderr: Mar 21, 2020 9:31:11 AM org.apache.pdfbox.pdmodel.font.PDCIDFontType2 findFontOrSubstitute\nWARNING: Using fallback font LiberationSans for CID-keyed TrueType font Tahoma\n\n",
          "name": "stderr"
        }
      ]
    },
    {
      "metadata": {
        "trusted": true
      },
      "cell_type": "code",
      "source": "df2.head()",
      "execution_count": 17,
      "outputs": [
        {
          "output_type": "error",
          "ename": "AttributeError",
          "evalue": "'list' object has no attribute 'head'",
          "traceback": [
            "\u001b[0;31m---------------------------------------------------------------------------\u001b[0m",
            "\u001b[0;31mAttributeError\u001b[0m                            Traceback (most recent call last)",
            "\u001b[0;32m<ipython-input-17-68302b2f4bd0>\u001b[0m in \u001b[0;36m<module>\u001b[0;34m\u001b[0m\n\u001b[0;32m----> 1\u001b[0;31m \u001b[0mdf2\u001b[0m\u001b[0;34m.\u001b[0m\u001b[0mhead\u001b[0m\u001b[0;34m(\u001b[0m\u001b[0;34m)\u001b[0m\u001b[0;34m\u001b[0m\u001b[0m\n\u001b[0m",
            "\u001b[0;31mAttributeError\u001b[0m: 'list' object has no attribute 'head'"
          ]
        }
      ]
    },
    {
      "metadata": {
        "trusted": true
      },
      "cell_type": "code",
      "source": "file = 'https://www.pilbaraports.com.au/PilbaraPortsAuthority/files/0a/0a418d58-74bd-4b8f-8ba5-9ddf021c3744.pdf'\ndf = tabula.read_pdf(file, lattice=True, pages=1)\ndf",
      "execution_count": 11,
      "outputs": [
        {
          "output_type": "stream",
          "text": "Got stderr: Mar 21, 2020 9:29:26 AM org.apache.pdfbox.pdmodel.font.PDCIDFontType2 findFontOrSubstitute\nWARNING: Using fallback font LiberationSans for CID-keyed TrueType font Tahoma\n\n",
          "name": "stderr"
        },
        {
          "output_type": "execute_result",
          "execution_count": 11,
          "data": {
            "text/plain": "[                  Unnamed: 0 Chemical\\rCompound  Containers    General  \\\n 0                  Australia           7,200.00       70.87  13,747.31   \n 1          Brunei Darussalam                NaN         NaN        NaN   \n 2                      China                NaN        0.00   3,733.08   \n 3         Korea, Republic of                NaN         NaN   3,000.00   \n 4                   Malaysia                NaN         NaN        NaN   \n 5                  Singapore                NaN      379.20        NaN   \n 6  Taiwan, Province of China                NaN         NaN        NaN   \n 7                      Total           7,200.00      450.07  20,480.39   \n \n   Hydrocarbon       Total  \n 0   10,315.39   31,333.57  \n 1   63,336.10   63,336.10  \n 2         NaN    3,733.08  \n 3         NaN    3,000.00  \n 4   38,880.65   38,880.65  \n 5   39,153.62   39,532.82  \n 6   10,811.54   10,811.54  \n 7  162,497.30  190,627.76  ]"
          },
          "metadata": {}
        }
      ]
    },
    {
      "metadata": {
        "trusted": true
      },
      "cell_type": "code",
      "source": "clean_df = df2.replace('\\r',' ', regex=True)\nclean_df",
      "execution_count": 16,
      "outputs": [
        {
          "output_type": "error",
          "ename": "AttributeError",
          "evalue": "'list' object has no attribute 'replace'",
          "traceback": [
            "\u001b[0;31m---------------------------------------------------------------------------\u001b[0m",
            "\u001b[0;31mAttributeError\u001b[0m                            Traceback (most recent call last)",
            "\u001b[0;32m<ipython-input-16-71052abe5eb0>\u001b[0m in \u001b[0;36m<module>\u001b[0;34m\u001b[0m\n\u001b[0;32m----> 1\u001b[0;31m \u001b[0mclean_df\u001b[0m \u001b[0;34m=\u001b[0m \u001b[0mdf2\u001b[0m\u001b[0;34m.\u001b[0m\u001b[0mreplace\u001b[0m\u001b[0;34m(\u001b[0m\u001b[0;34m'\\r'\u001b[0m\u001b[0;34m,\u001b[0m\u001b[0;34m' '\u001b[0m\u001b[0;34m,\u001b[0m \u001b[0mregex\u001b[0m\u001b[0;34m=\u001b[0m\u001b[0;32mTrue\u001b[0m\u001b[0;34m)\u001b[0m\u001b[0;34m\u001b[0m\u001b[0m\n\u001b[0m\u001b[1;32m      2\u001b[0m \u001b[0mclean_df\u001b[0m\u001b[0;34m\u001b[0m\u001b[0m\n",
            "\u001b[0;31mAttributeError\u001b[0m: 'list' object has no attribute 'replace'"
          ]
        }
      ]
    },
    {
      "metadata": {
        "trusted": true
      },
      "cell_type": "code",
      "source": "",
      "execution_count": null,
      "outputs": []
    }
  ],
  "metadata": {
    "kernelspec": {
      "name": "python36",
      "display_name": "Python 3.6",
      "language": "python"
    }
  },
  "nbformat": 4,
  "nbformat_minor": 2
}